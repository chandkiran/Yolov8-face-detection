{
 "cells": [
  {
   "cell_type": "code",
   "execution_count": 1,
   "metadata": {},
   "outputs": [
    {
     "name": "stdout",
     "output_type": "stream",
     "text": [
      "Selected 7000 images and copied to K:/fine_tuned/YOLOv8/images/train\n"
     ]
    }
   ],
   "source": [
    "import os\n",
    "import random\n",
    "import shutil\n",
    "\n",
    "def select_random_subset(source_folder, destination_folder, num_samples):\n",
    "    # Ensure the destination folder exists\n",
    "    if not os.path.exists(destination_folder):\n",
    "        os.makedirs(destination_folder)\n",
    "\n",
    "    # Get all image files from the source folder\n",
    "    image_files = [f for f in os.listdir(source_folder) if f.lower().endswith(('.jpg', '.jpeg', '.png'))]\n",
    "\n",
    "    # Check if the requested number of samples is less than or equal to the available images\n",
    "    if num_samples > len(image_files):\n",
    "        print(f\"Requested number of samples ({num_samples}) exceeds available images ({len(image_files)}).\")\n",
    "        return\n",
    "\n",
    "    # Randomly select the specified number of images\n",
    "    selected_files = random.sample(image_files, num_samples)\n",
    "\n",
    "    # Copy the selected images to the destination folder\n",
    "    for filename in selected_files:\n",
    "        source_path = os.path.join(source_folder, filename)\n",
    "        destination_path = os.path.join(destination_folder, filename)\n",
    "        shutil.copyfile(source_path, destination_path)\n",
    "\n",
    "    print(f\"Selected {num_samples} images and copied to {destination_folder}\")\n",
    "\n",
    "# Example usage\n",
    "source_folder = 'K:/fine_tuned/YOLOv8/images/train2'\n",
    "destination_folder ='K:/fine_tuned/YOLOv8/images/train'\n",
    "num_samples = 7000\n",
    "\n",
    "select_random_subset(source_folder, destination_folder, num_samples)\n"
   ]
  },
  {
   "cell_type": "code",
   "execution_count": 4,
   "metadata": {},
   "outputs": [
    {
     "name": "stdout",
     "output_type": "stream",
     "text": [
      "Selected 2000 images and copied to K:/fine_tuned/YOLOv8/images/valid\n"
     ]
    }
   ],
   "source": [
    "import os\n",
    "import random\n",
    "import shutil\n",
    "\n",
    "def select_random_subset(source_folder, destination_folder, num_samples):\n",
    "    # Ensure the destination folder exists\n",
    "    if not os.path.exists(destination_folder):\n",
    "        os.makedirs(destination_folder)\n",
    "\n",
    "    # Get all image files from the source folder\n",
    "    image_files = [f for f in os.listdir(source_folder) if f.lower().endswith(('.jpg', '.jpeg', '.png'))]\n",
    "\n",
    "    # Check if the requested number of samples is less than or equal to the available images\n",
    "    if num_samples > len(image_files):\n",
    "        print(f\"Requested number of samples ({num_samples}) exceeds available images ({len(image_files)}).\")\n",
    "        return\n",
    "\n",
    "    # Randomly select the specified number of images\n",
    "    selected_files = random.sample(image_files, num_samples)\n",
    "\n",
    "    # Copy the selected images to the destination folder\n",
    "    for filename in selected_files:\n",
    "        source_path = os.path.join(source_folder, filename)\n",
    "        destination_path = os.path.join(destination_folder, filename)\n",
    "        shutil.copyfile(source_path, destination_path)\n",
    "\n",
    "    print(f\"Selected {num_samples} images and copied to {destination_folder}\")\n",
    "\n",
    "# Example usage\n",
    "source_folder = 'K:/fine_tuned/YOLOv8/images/valid1'\n",
    "destination_folder ='K:/fine_tuned/YOLOv8/images/valid'\n",
    "num_samples = 2000\n",
    "\n",
    "select_random_subset(source_folder, destination_folder, num_samples)\n"
   ]
  }
 ],
 "metadata": {
  "kernelspec": {
   "display_name": "Python 3",
   "language": "python",
   "name": "python3"
  },
  "language_info": {
   "codemirror_mode": {
    "name": "ipython",
    "version": 3
   },
   "file_extension": ".py",
   "mimetype": "text/x-python",
   "name": "python",
   "nbconvert_exporter": "python",
   "pygments_lexer": "ipython3",
   "version": "3.9.11"
  }
 },
 "nbformat": 4,
 "nbformat_minor": 2
}
